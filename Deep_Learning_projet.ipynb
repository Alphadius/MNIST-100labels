{
  "nbformat": 4,
  "nbformat_minor": 0,
  "metadata": {
    "colab": {
      "name": "Deep Learning projet.ipynb",
      "provenance": [],
      "authorship_tag": "ABX9TyOIbMvEPWwKB92tn4AWyku2",
      "include_colab_link": true
    },
    "kernelspec": {
      "name": "python3",
      "display_name": "Python 3"
    },
    "language_info": {
      "name": "python"
    }
  },
  "cells": [
    {
      "cell_type": "markdown",
      "metadata": {
        "id": "view-in-github",
        "colab_type": "text"
      },
      "source": [
        "<a href=\"https://colab.research.google.com/github/Rysekk/MNIST-100labels/blob/main/Deep_Learning_projet.ipynb\" target=\"_parent\"><img src=\"https://colab.research.google.com/assets/colab-badge.svg\" alt=\"Open In Colab\"/></a>"
      ]
    },
    {
      "cell_type": "code",
      "metadata": {
        "id": "gtsBm_cAHHR3"
      },
      "source": [
        "from keras.datasets import mnist\n",
        "#Import de la base de donnée MNIST\n",
        "\n",
        "(train_X, train_y), (test_X, test_y) = mnist.load_data()\n",
        "\n",
        "print('X_train: ' + str(train_X.shape))\n",
        "print('Y_train: ' + str(train_y.shape))\n",
        "print('X_test:  '  + str(test_X.shape))\n",
        "print('Y_test:  '  + str(test_y.shape))"
      ],
      "execution_count": null,
      "outputs": []
    },
    {
      "cell_type": "code",
      "metadata": {
        "id": "6r561DlGHKTf"
      },
      "source": [
        "import numpy as np\n",
        "\n",
        "#creation des matrices pour stocker les 100 labels\n",
        "train_X100label = np.zeros(shape=(100,28,28)).astype('uint8')\n",
        "train_y100label = np.zeros(shape=(100)).astype('uint8')\n",
        "\n",
        "#On selectionne dans X_train et Y_train les 100 labels \n",
        "counter = 0\n",
        "for i in range(10):\n",
        "    train_filter = np.where(train_y == [i])\n",
        "    for j in range(10):\n",
        "        X_train, Y_train = train_X[train_filter], train_y[train_filter]\n",
        "        \n",
        "        train_X100label[counter] = X_train[counter]\n",
        "        train_y100label[counter] = Y_train[counter]\n",
        "        counter+=1"
      ],
      "execution_count": null,
      "outputs": []
    },
    {
      "cell_type": "code",
      "metadata": {
        "id": "j-eFc38VHNU_"
      },
      "source": [
        "#plot chaque dizaine des 100 labels selectionés\n",
        "from matplotlib import pyplot\n",
        "for i in range(10):\n",
        "    pyplot.subplot(2,5,1+i)\n",
        "    pyplot.imshow(train_X100label[i*10], cmap=pyplot.get_cmap('gray'))\n",
        "    print(\"label num \"+str(i)+\": \",train_y100label[i*10])\n",
        "    pyplot.show()"
      ],
      "execution_count": null,
      "outputs": []
    },
    {
      "cell_type": "code",
      "metadata": {
        "id": "vX4yRuB0HSaM"
      },
      "source": [
        "#suppression des veleur qui ne servent plus\n",
        "del X_train,Y_train,train_X,train_y,train_filter,i,j,counter"
      ],
      "execution_count": null,
      "outputs": []
    },
    {
      "cell_type": "code",
      "metadata": {
        "id": "tSDssLDzHWgO"
      },
      "source": [
        "#Il ne reste plus qu'à les melanger pour avoir un truc uniforme et sans biais"
      ],
      "execution_count": null,
      "outputs": []
    }
  ]
}